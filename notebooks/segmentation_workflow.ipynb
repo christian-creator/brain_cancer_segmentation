{
 "cells": [
  {
   "cell_type": "code",
   "execution_count": 9,
   "metadata": {},
   "outputs": [],
   "source": [
    "import os\n",
    "import sys\n",
    "import cv2 as cv\n",
    "import seaborn as sns\n",
    "import utilities as ut\n",
    "from torch.utils.data import DataLoader\n",
    "import random\n",
    "random.seed(0)\n",
    "\n",
    "import numpy as np\n",
    "import pandas as pd\n",
    "import matplotlib.pyplot as plt\n",
    "import os,sys\n",
    "import random\n",
    "import torch\n",
    "from torch.autograd import Variable\n",
    "from torch.nn.parameter import Parameter\n",
    "import torch.nn as nn\n",
    "import torch.nn.functional as F\n",
    "import torch.optim as optim\n",
    "import torch.nn.init as init\n",
    "from torch.utils.data import DataLoader\n",
    "import math\n",
    "import cv2 as cv\n",
    "\n",
    "from torch.nn import Linear, Conv2d, BatchNorm2d, MaxPool2d, Dropout2d\n",
    "from torch.nn.functional import relu, elu, relu6, sigmoid, tanh, softmax\n",
    "from torch.nn import Linear, GRU, Conv2d, Dropout, MaxPool2d, BatchNorm1d"
   ]
  },
  {
   "cell_type": "markdown",
   "metadata": {},
   "source": [
    "# Encoding the dataset"
   ]
  },
  {
   "cell_type": "markdown",
   "metadata": {},
   "source": [
    "**Creating a datframe to store paths of the X and y**"
   ]
  },
  {
   "cell_type": "code",
   "execution_count": 10,
   "metadata": {},
   "outputs": [
    {
     "data": {
      "text/html": [
       "<div>\n",
       "<style scoped>\n",
       "    .dataframe tbody tr th:only-of-type {\n",
       "        vertical-align: middle;\n",
       "    }\n",
       "\n",
       "    .dataframe tbody tr th {\n",
       "        vertical-align: top;\n",
       "    }\n",
       "\n",
       "    .dataframe thead th {\n",
       "        text-align: right;\n",
       "    }\n",
       "</style>\n",
       "<table border=\"1\" class=\"dataframe\">\n",
       "  <thead>\n",
       "    <tr style=\"text-align: right;\">\n",
       "      <th></th>\n",
       "      <th>patient_slice</th>\n",
       "      <th>mask</th>\n",
       "      <th>image</th>\n",
       "      <th>patient</th>\n",
       "      <th>diagnosis</th>\n",
       "      <th>slice</th>\n",
       "    </tr>\n",
       "  </thead>\n",
       "  <tbody>\n",
       "    <tr>\n",
       "      <th>0</th>\n",
       "      <td>TCGA_FG_5962_20000626_2</td>\n",
       "      <td>/Users/christianpederjacobsen/Dropbox/Mac/Desk...</td>\n",
       "      <td>/Users/christianpederjacobsen/Dropbox/Mac/Desk...</td>\n",
       "      <td>TCGA_FG_5962_20000626</td>\n",
       "      <td>0</td>\n",
       "      <td>2</td>\n",
       "    </tr>\n",
       "    <tr>\n",
       "      <th>1</th>\n",
       "      <td>TCGA_DU_A5TP_19970614_1</td>\n",
       "      <td>/Users/christianpederjacobsen/Dropbox/Mac/Desk...</td>\n",
       "      <td>/Users/christianpederjacobsen/Dropbox/Mac/Desk...</td>\n",
       "      <td>TCGA_DU_A5TP_19970614</td>\n",
       "      <td>0</td>\n",
       "      <td>1</td>\n",
       "    </tr>\n",
       "    <tr>\n",
       "      <th>2</th>\n",
       "      <td>TCGA_DU_7294_19890104_8</td>\n",
       "      <td>/Users/christianpederjacobsen/Dropbox/Mac/Desk...</td>\n",
       "      <td>/Users/christianpederjacobsen/Dropbox/Mac/Desk...</td>\n",
       "      <td>TCGA_DU_7294_19890104</td>\n",
       "      <td>0</td>\n",
       "      <td>8</td>\n",
       "    </tr>\n",
       "    <tr>\n",
       "      <th>3</th>\n",
       "      <td>TCGA_DU_8165_19970205_31</td>\n",
       "      <td>/Users/christianpederjacobsen/Dropbox/Mac/Desk...</td>\n",
       "      <td>/Users/christianpederjacobsen/Dropbox/Mac/Desk...</td>\n",
       "      <td>TCGA_DU_8165_19970205</td>\n",
       "      <td>0</td>\n",
       "      <td>31</td>\n",
       "    </tr>\n",
       "    <tr>\n",
       "      <th>4</th>\n",
       "      <td>TCGA_DU_8166_19970322_10</td>\n",
       "      <td>/Users/christianpederjacobsen/Dropbox/Mac/Desk...</td>\n",
       "      <td>/Users/christianpederjacobsen/Dropbox/Mac/Desk...</td>\n",
       "      <td>TCGA_DU_8166_19970322</td>\n",
       "      <td>0</td>\n",
       "      <td>10</td>\n",
       "    </tr>\n",
       "    <tr>\n",
       "      <th>...</th>\n",
       "      <td>...</td>\n",
       "      <td>...</td>\n",
       "      <td>...</td>\n",
       "      <td>...</td>\n",
       "      <td>...</td>\n",
       "      <td>...</td>\n",
       "    </tr>\n",
       "    <tr>\n",
       "      <th>3924</th>\n",
       "      <td>TCGA_HT_7608_19940304_4</td>\n",
       "      <td>/Users/christianpederjacobsen/Dropbox/Mac/Desk...</td>\n",
       "      <td>/Users/christianpederjacobsen/Dropbox/Mac/Desk...</td>\n",
       "      <td>TCGA_HT_7608_19940304</td>\n",
       "      <td>0</td>\n",
       "      <td>4</td>\n",
       "    </tr>\n",
       "    <tr>\n",
       "      <th>3925</th>\n",
       "      <td>TCGA_HT_7881_19981015_69</td>\n",
       "      <td>/Users/christianpederjacobsen/Dropbox/Mac/Desk...</td>\n",
       "      <td>/Users/christianpederjacobsen/Dropbox/Mac/Desk...</td>\n",
       "      <td>TCGA_HT_7881_19981015</td>\n",
       "      <td>0</td>\n",
       "      <td>69</td>\n",
       "    </tr>\n",
       "    <tr>\n",
       "      <th>3926</th>\n",
       "      <td>TCGA_FG_6689_20020326_6</td>\n",
       "      <td>/Users/christianpederjacobsen/Dropbox/Mac/Desk...</td>\n",
       "      <td>/Users/christianpederjacobsen/Dropbox/Mac/Desk...</td>\n",
       "      <td>TCGA_FG_6689_20020326</td>\n",
       "      <td>0</td>\n",
       "      <td>6</td>\n",
       "    </tr>\n",
       "    <tr>\n",
       "      <th>3927</th>\n",
       "      <td>TCGA_FG_6688_20020215_34</td>\n",
       "      <td>/Users/christianpederjacobsen/Dropbox/Mac/Desk...</td>\n",
       "      <td>/Users/christianpederjacobsen/Dropbox/Mac/Desk...</td>\n",
       "      <td>TCGA_FG_6688_20020215</td>\n",
       "      <td>0</td>\n",
       "      <td>34</td>\n",
       "    </tr>\n",
       "    <tr>\n",
       "      <th>3928</th>\n",
       "      <td>TCGA_FG_6689_20020326_21</td>\n",
       "      <td>/Users/christianpederjacobsen/Dropbox/Mac/Desk...</td>\n",
       "      <td>/Users/christianpederjacobsen/Dropbox/Mac/Desk...</td>\n",
       "      <td>TCGA_FG_6689_20020326</td>\n",
       "      <td>1</td>\n",
       "      <td>21</td>\n",
       "    </tr>\n",
       "  </tbody>\n",
       "</table>\n",
       "<p>3929 rows × 6 columns</p>\n",
       "</div>"
      ],
      "text/plain": [
       "                 patient_slice  \\\n",
       "0      TCGA_FG_5962_20000626_2   \n",
       "1      TCGA_DU_A5TP_19970614_1   \n",
       "2      TCGA_DU_7294_19890104_8   \n",
       "3     TCGA_DU_8165_19970205_31   \n",
       "4     TCGA_DU_8166_19970322_10   \n",
       "...                        ...   \n",
       "3924   TCGA_HT_7608_19940304_4   \n",
       "3925  TCGA_HT_7881_19981015_69   \n",
       "3926   TCGA_FG_6689_20020326_6   \n",
       "3927  TCGA_FG_6688_20020215_34   \n",
       "3928  TCGA_FG_6689_20020326_21   \n",
       "\n",
       "                                                   mask  \\\n",
       "0     /Users/christianpederjacobsen/Dropbox/Mac/Desk...   \n",
       "1     /Users/christianpederjacobsen/Dropbox/Mac/Desk...   \n",
       "2     /Users/christianpederjacobsen/Dropbox/Mac/Desk...   \n",
       "3     /Users/christianpederjacobsen/Dropbox/Mac/Desk...   \n",
       "4     /Users/christianpederjacobsen/Dropbox/Mac/Desk...   \n",
       "...                                                 ...   \n",
       "3924  /Users/christianpederjacobsen/Dropbox/Mac/Desk...   \n",
       "3925  /Users/christianpederjacobsen/Dropbox/Mac/Desk...   \n",
       "3926  /Users/christianpederjacobsen/Dropbox/Mac/Desk...   \n",
       "3927  /Users/christianpederjacobsen/Dropbox/Mac/Desk...   \n",
       "3928  /Users/christianpederjacobsen/Dropbox/Mac/Desk...   \n",
       "\n",
       "                                                  image  \\\n",
       "0     /Users/christianpederjacobsen/Dropbox/Mac/Desk...   \n",
       "1     /Users/christianpederjacobsen/Dropbox/Mac/Desk...   \n",
       "2     /Users/christianpederjacobsen/Dropbox/Mac/Desk...   \n",
       "3     /Users/christianpederjacobsen/Dropbox/Mac/Desk...   \n",
       "4     /Users/christianpederjacobsen/Dropbox/Mac/Desk...   \n",
       "...                                                 ...   \n",
       "3924  /Users/christianpederjacobsen/Dropbox/Mac/Desk...   \n",
       "3925  /Users/christianpederjacobsen/Dropbox/Mac/Desk...   \n",
       "3926  /Users/christianpederjacobsen/Dropbox/Mac/Desk...   \n",
       "3927  /Users/christianpederjacobsen/Dropbox/Mac/Desk...   \n",
       "3928  /Users/christianpederjacobsen/Dropbox/Mac/Desk...   \n",
       "\n",
       "                    patient  diagnosis  slice  \n",
       "0     TCGA_FG_5962_20000626          0      2  \n",
       "1     TCGA_DU_A5TP_19970614          0      1  \n",
       "2     TCGA_DU_7294_19890104          0      8  \n",
       "3     TCGA_DU_8165_19970205          0     31  \n",
       "4     TCGA_DU_8166_19970322          0     10  \n",
       "...                     ...        ...    ...  \n",
       "3924  TCGA_HT_7608_19940304          0      4  \n",
       "3925  TCGA_HT_7881_19981015          0     69  \n",
       "3926  TCGA_FG_6689_20020326          0      6  \n",
       "3927  TCGA_FG_6688_20020215          0     34  \n",
       "3928  TCGA_FG_6689_20020326          1     21  \n",
       "\n",
       "[3929 rows x 6 columns]"
      ]
     },
     "execution_count": 10,
     "metadata": {},
     "output_type": "execute_result"
    }
   ],
   "source": [
    "path_to_folder = \"/Users/christianpederjacobsen/Dropbox/Mac/Desktop/leg/brain_cancer_seg/data/archive/kaggle_3m\"\n",
    "image_df = ut.generate_path_dataframe(\"/Users/christianpederjacobsen/Dropbox/Mac/Desktop/leg/brain_cancer_seg/data/archive/kaggle_3m\")\n",
    "image_df = image_df.sample(frac=1, random_state=1).reset_index(drop=True)\n",
    "image_df"
   ]
  },
  {
   "cell_type": "markdown",
   "metadata": {},
   "source": [
    "**Encoding the dataset** "
   ]
  },
  {
   "cell_type": "code",
   "execution_count": 11,
   "metadata": {},
   "outputs": [],
   "source": [
    "encoded_images = np.array([cv.imread(x) for x in  image_df[\"image\"]]).astype('float32')\n",
    "encoded_masks = np.array([cv.imread(x) for x in  image_df[\"mask\"]]).astype('float32')\n",
    "\n",
    "encoded_images = np.moveaxis(encoded_images, -1, 1)\n",
    "encoded_masks = np.moveaxis(encoded_masks, -1, 1)\n",
    "encoded_masks = encoded_masks[:,0,:,:]\n",
    "encoded_masks = np.expand_dims(encoded_masks, 1)"
   ]
  },
  {
   "cell_type": "code",
   "execution_count": 12,
   "metadata": {},
   "outputs": [],
   "source": [
    "batch_size = 32\n",
    "train_index, val_index = ut.generate_train_val_indexes(0.9,len(encoded_images))\n",
    "\n",
    "# The training dataset\n",
    "images_train_loader = list(DataLoader(encoded_images[train_index],batch_size=batch_size))\n",
    "mask_train_loader = list(DataLoader(encoded_masks[train_index],batch_size=batch_size))\n",
    "\n",
    "# The validation dataset\n",
    "images_val_loader = list(DataLoader(encoded_images[val_index],batch_size=batch_size))\n",
    "mask_val_loader = list(DataLoader(encoded_masks[val_index],batch_size=batch_size))"
   ]
  },
  {
   "cell_type": "markdown",
   "metadata": {},
   "source": [
    "**Importing the dataset**"
   ]
  },
  {
   "cell_type": "code",
   "execution_count": 21,
   "metadata": {},
   "outputs": [
    {
     "name": "stdout",
     "output_type": "stream",
     "text": [
      "Device state: mps\n"
     ]
    }
   ],
   "source": [
    "# device = 'cuda:0' if torch.cuda.is_available() else 'cpu'\n",
    "device = torch.device(\"mps\")\n",
    "print('Device state:', device)"
   ]
  },
  {
   "cell_type": "code",
   "execution_count": 20,
   "metadata": {},
   "outputs": [
    {
     "name": "stdout",
     "output_type": "stream",
     "text": [
      "torch.Size([32, 1, 256, 256])\n",
      "torch.Size([32, 1, 256, 256])\n",
      "torch.Size([32, 1, 256, 256])\n",
      "torch.Size([32, 1, 256, 256])\n",
      "torch.Size([32, 1, 256, 256])\n",
      "torch.Size([32, 1, 256, 256])\n",
      "torch.Size([32, 1, 256, 256])\n",
      "torch.Size([32, 1, 256, 256])\n",
      "13.5 s ± 713 ms per loop (mean ± std. dev. of 7 runs, 1 loop each)\n"
     ]
    }
   ],
   "source": [
    "%%timeit\n",
    "from model_structures import Unet,get_n_params\n",
    "image_random = np.random.normal(0,1, (32, 3, 256, 256)).astype('float32')\n",
    "image_random = Variable(torch.from_numpy(image_random))\n",
    "net = Unet(1)\n",
    "# print(get_n_params(net))\n",
    "print(net(image_random).shape)"
   ]
  },
  {
   "cell_type": "code",
   "execution_count": 22,
   "metadata": {},
   "outputs": [
    {
     "data": {
      "text/plain": [
       "Unet(\n",
       "  (down): MaxPool2d(kernel_size=2, stride=2, padding=0, dilation=1, ceil_mode=False)\n",
       "  (d_conv1): DoubleConv(\n",
       "    (model): Sequential(\n",
       "      (0): Conv2d(3, 64, kernel_size=(3, 3), stride=(1, 1), padding=(1, 1))\n",
       "      (1): ReLU(inplace=True)\n",
       "      (2): Conv2d(64, 64, kernel_size=(3, 3), stride=(1, 1), padding=(1, 1))\n",
       "      (3): ReLU(inplace=True)\n",
       "    )\n",
       "  )\n",
       "  (d_conv2): DoubleConv(\n",
       "    (model): Sequential(\n",
       "      (0): Conv2d(64, 128, kernel_size=(3, 3), stride=(1, 1), padding=(1, 1))\n",
       "      (1): ReLU(inplace=True)\n",
       "      (2): Conv2d(128, 128, kernel_size=(3, 3), stride=(1, 1), padding=(1, 1))\n",
       "      (3): ReLU(inplace=True)\n",
       "    )\n",
       "  )\n",
       "  (d_conv3): DoubleConv(\n",
       "    (model): Sequential(\n",
       "      (0): Conv2d(128, 256, kernel_size=(3, 3), stride=(1, 1), padding=(1, 1))\n",
       "      (1): ReLU(inplace=True)\n",
       "      (2): Conv2d(256, 256, kernel_size=(3, 3), stride=(1, 1), padding=(1, 1))\n",
       "      (3): ReLU(inplace=True)\n",
       "    )\n",
       "  )\n",
       "  (d_conv4): DoubleConv(\n",
       "    (model): Sequential(\n",
       "      (0): Conv2d(256, 512, kernel_size=(3, 3), stride=(1, 1), padding=(1, 1))\n",
       "      (1): ReLU(inplace=True)\n",
       "      (2): Conv2d(512, 512, kernel_size=(3, 3), stride=(1, 1), padding=(1, 1))\n",
       "      (3): ReLU(inplace=True)\n",
       "    )\n",
       "  )\n",
       "  (up): Upsample(scale_factor=2.0, mode=bilinear)\n",
       "  (u_conv1): DoubleConv(\n",
       "    (model): Sequential(\n",
       "      (0): Conv2d(768, 256, kernel_size=(3, 3), stride=(1, 1), padding=(1, 1))\n",
       "      (1): ReLU(inplace=True)\n",
       "      (2): Conv2d(256, 256, kernel_size=(3, 3), stride=(1, 1), padding=(1, 1))\n",
       "      (3): ReLU(inplace=True)\n",
       "    )\n",
       "  )\n",
       "  (u_conv2): DoubleConv(\n",
       "    (model): Sequential(\n",
       "      (0): Conv2d(384, 128, kernel_size=(3, 3), stride=(1, 1), padding=(1, 1))\n",
       "      (1): ReLU(inplace=True)\n",
       "      (2): Conv2d(128, 128, kernel_size=(3, 3), stride=(1, 1), padding=(1, 1))\n",
       "      (3): ReLU(inplace=True)\n",
       "    )\n",
       "  )\n",
       "  (u_conv3): DoubleConv(\n",
       "    (model): Sequential(\n",
       "      (0): Conv2d(192, 64, kernel_size=(3, 3), stride=(1, 1), padding=(1, 1))\n",
       "      (1): ReLU(inplace=True)\n",
       "      (2): Conv2d(64, 64, kernel_size=(3, 3), stride=(1, 1), padding=(1, 1))\n",
       "      (3): ReLU(inplace=True)\n",
       "    )\n",
       "  )\n",
       "  (last): Conv2d(64, 1, kernel_size=(1, 1), stride=(1, 1))\n",
       ")"
      ]
     },
     "execution_count": 22,
     "metadata": {},
     "output_type": "execute_result"
    }
   ],
   "source": [
    "from model_structures import Unet,get_n_params\n",
    "image_random = np.random.normal(0,1, (1, 3, 256, 256)).astype('float32')\n",
    "image_random = Variable(torch.from_numpy(image_random))\n",
    "net = Unet(1)\n",
    "net.to(device)\n"
   ]
  },
  {
   "cell_type": "code",
   "execution_count": null,
   "metadata": {},
   "outputs": [],
   "source": [
    "%%timeit\n",
    "print(net(image_random).shape)"
   ]
  },
  {
   "cell_type": "code",
   "execution_count": 41,
   "metadata": {},
   "outputs": [],
   "source": [
    "def train(model, device, epochs, train_loaders, val_loaders):\n",
    "    # Optimizer\n",
    "    criterion = nn.BCEWithLogitsLoss()\n",
    "    optimizer = optim.Adam(model.parameters(),lr=0.001)\n",
    "\n",
    "    images_train_loader,mask_train_loader = train_loaders\n",
    "    images_val_loader,mask_val_loader = val_loaders\n",
    "\n",
    "\n",
    "    for epoch in range(epochs):\n",
    "        running_loss = 0.0\n",
    "        for i in range(len(images_train_loader)):\n",
    "            images = images_train_loader[i]\n",
    "            masks = mask_train_loader[i]\n",
    "            # zero the parameter gradients\n",
    "            optimizer.zero_grad()\n",
    "\n",
    "            # forward + backward + optimize\n",
    "            outputs = net(images)\n",
    "            loss = criterion(outputs, masks)\n",
    "            print(loss)\n",
    "            loss.backward()\n",
    "            optimizer.step()\n",
    "            # print statistics\n",
    "            running_loss += loss.item()\n",
    "            if (i+1) % 10 == 0:    # print every 2000 mini-batches\n",
    "                print(f'[{epoch + 1}, {i + 1:5d}] loss: {running_loss / 2000:.3f}')\n",
    "                running_loss = 0.0\n",
    "\n"
   ]
  },
  {
   "cell_type": "code",
   "execution_count": 42,
   "metadata": {},
   "outputs": [
    {
     "name": "stdout",
     "output_type": "stream",
     "text": [
      "tensor(0.9768, grad_fn=<BinaryCrossEntropyWithLogitsBackward0>)\n"
     ]
    }
   ],
   "source": [
    "train_loaders = (images_train_loader,mask_train_loader)\n",
    "val_loaders = (images_val_loader,mask_val_loader)\n",
    "net = Unet(1)\n",
    "\n",
    "train(net,\"cpu\",1,train_loaders,val_loaders)"
   ]
  },
  {
   "cell_type": "code",
   "execution_count": null,
   "metadata": {},
   "outputs": [],
   "source": []
  }
 ],
 "metadata": {
  "kernelspec": {
   "display_name": "Python 3.8.13 ('nightly')",
   "language": "python",
   "name": "python3"
  },
  "language_info": {
   "codemirror_mode": {
    "name": "ipython",
    "version": 3
   },
   "file_extension": ".py",
   "mimetype": "text/x-python",
   "name": "python",
   "nbconvert_exporter": "python",
   "pygments_lexer": "ipython3",
   "version": "3.8.13"
  },
  "orig_nbformat": 4,
  "vscode": {
   "interpreter": {
    "hash": "6fa076a38f886175ae38fa166ce5abec0b96a3c4aef484038168a53f49e53c3e"
   }
  }
 },
 "nbformat": 4,
 "nbformat_minor": 2
}
